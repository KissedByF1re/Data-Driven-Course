{
 "cells": [
  {
   "cell_type": "markdown",
   "id": "c278aa8e-e941-49b7-9f11-9a4c8cc3d3f7",
   "metadata": {},
   "source": [
    "**Выполнение Шага 1**"
   ]
  },
  {
   "cell_type": "code",
   "execution_count": null,
   "id": "0b54bffe-ba53-4968-bc5c-2c2c497cfffb",
   "metadata": {},
   "outputs": [],
   "source": [
    "# Создание conda-окружения fastqс и его запуск + просмотр версии\n",
    "mamba create -n fastqc_env -c conda-forge -c bioconda fastqc\n",
    "conda activate fastqc_env\n",
    "fastqc --version"
   ]
  },
  {
   "cell_type": "markdown",
   "id": "2bf51f5c-9aa7-4aa1-bd1d-b6a8a6218ee9",
   "metadata": {},
   "source": [
    "FastQC v0.12.1 - установленная версия"
   ]
  },
  {
   "cell_type": "code",
   "execution_count": null,
   "id": "739885bd-93c7-40e9-afba-70cb8385b753",
   "metadata": {},
   "outputs": [],
   "source": [
    "# Запуск FastQC на всех 6 файлах данных\n",
    "fastqc -o hw2/fastqc hw2/fastqc/SRR292678_1.fastq\n",
    "fastqc -o hw2/fastqc hw2/fastqc/SRR292678_2.fastq\n",
    "fastqc -o hw2/fastqc hw2/fastqc/SRR292862_1.fastq\n",
    "fastqc -o hw2/fastqc hw2/fastqc/SRR292862_2.fastq\n",
    "fastqc -o hw2/fastqc hw2/fastqc/SRR292770_1.fastq\n",
    "fastqc -o hw2/fastqc hw2/fastqc/SRR292770_2.fastq"
   ]
  },
  {
   "cell_type": "markdown",
   "id": "672e80c9-ef35-43e8-9f0c-d9359bf4d8ae",
   "metadata": {},
   "source": [
    "Анализ файлов был выполнен 10.11.2024 и результат сохранен в папку fastqc"
   ]
  },
  {
   "cell_type": "code",
   "execution_count": null,
   "id": "f1e14cfd-8c3c-444a-8033-dc6ada778d40",
   "metadata": {},
   "outputs": [],
   "source": [
    "# По завершению анализа отключаем окружение\n",
    "conda deactivate"
   ]
  },
  {
   "cell_type": "code",
   "execution_count": null,
   "id": "192dddaa-4dd7-41c3-9f9b-414f76891794",
   "metadata": {},
   "outputs": [],
   "source": [
    "# Пушим в GitHub\n",
    "git add hw2/lab_journal.ipynb hw2/fastqc\n",
    "git commit -m 'Step 1 in HW2'\n",
    "git push"
   ]
  },
  {
   "cell_type": "markdown",
   "id": "0df44c82-f4d9-4485-b049-7144faf417dd",
   "metadata": {},
   "source": [
    "**Выполнение Шага 2**"
   ]
  },
  {
   "cell_type": "code",
   "execution_count": null,
   "id": "2bfb0893-ca68-4aef-ad53-5e7c08cf20ff",
   "metadata": {},
   "outputs": [],
   "source": [
    "# Подготовка окружения\n",
    "mamba create -n spades_env -c conda-forge -c bioconda spades\n",
    "conda activate spades_env\n",
    "spades.py --version"
   ]
  },
  {
   "cell_type": "markdown",
   "id": "430a11a1-a863-47d8-9c2e-4e7ab2cb455a",
   "metadata": {},
   "source": [
    "SPAdes genome assembler v4.0.0"
   ]
  },
  {
   "cell_type": "code",
   "execution_count": null,
   "id": "f9b039b4-950c-4099-90af-14158209abc4",
   "metadata": {},
   "outputs": [],
   "source": [
    "# Сборка генома (без стадии коррекции ошибок, так как иначе не хватало памяти и файлы contigs.fasta и scaffolds.fasta не создавались)\n",
    "cd DD_2024_private/\n",
    "cd hw2/\n",
    "spades.py -1 SRR292678_1.fastq -2 SRR292678_2.fastq -o spades/ --only-assembler"
   ]
  },
  {
   "cell_type": "markdown",
   "id": "a3c77226-28f0-4428-8ad4-bc3c5cfb1fc1",
   "metadata": {},
   "source": [
    "Файлы contigs.fasta и scaffolds.fasta были успешно созданы и сохранены в папке spades 10.11.2024"
   ]
  },
  {
   "cell_type": "code",
   "execution_count": null,
   "id": "db99efe4-41e3-4d4b-a356-16b48a24fc9f",
   "metadata": {},
   "outputs": [],
   "source": [
    "# По завершению отключаем окружение\n",
    "conda deactivate"
   ]
  },
  {
   "cell_type": "code",
   "execution_count": null,
   "id": "4c2ae551-b61b-4543-a941-3a6846b504d5",
   "metadata": {},
   "outputs": [],
   "source": [
    "# Пушим в GitHub\n",
    "git add hw2/spades/ hw2/lab_journal.ipynb\n",
    "git commit -m 'Step 2 in HW2, update lab_journal'\n",
    "git push"
   ]
  },
  {
   "cell_type": "markdown",
   "id": "afec27c9-6a7a-451f-8ba4-5c727241a0fb",
   "metadata": {},
   "source": [
    "**Выполнение Шага 3**"
   ]
  },
  {
   "cell_type": "code",
   "execution_count": null,
   "id": "551c3a1f-3bf5-45f6-b3bb-4de2a39b9302",
   "metadata": {},
   "outputs": [],
   "source": [
    "# Подготовка окружения\n",
    "mamba create -n quast_env -c conda-forge -c bioconda quast\n",
    "conda activate quast_env\n",
    "quast --version"
   ]
  },
  {
   "cell_type": "markdown",
   "id": "20cc3cce-99fb-47b2-be2c-d73eee252a21",
   "metadata": {},
   "source": [
    "QUAST v5.2.0"
   ]
  },
  {
   "cell_type": "code",
   "execution_count": null,
   "id": "63f1f859-3e17-4dc6-a73d-52de26b0a1b6",
   "metadata": {},
   "outputs": [],
   "source": [
    "# Анализ файлов, созданных после сборки генома\n",
    "quast -o hw2/quast hw2/spades/contigs.fasta hw2/spades/scaffolds.fasta"
   ]
  },
  {
   "cell_type": "markdown",
   "id": "dd5653ed-8cd9-4891-a379-86e0505c9ac9",
   "metadata": {},
   "source": [
    "**Метрики качества сборки:**\n",
    "\n",
    "Для contigs.fasta:\n",
    "- N50: 111666\n",
    "- Общая длина сборки: 5246662\n",
    "- Количество контигов: 200\n",
    "\n",
    "\n",
    "Для scaffolds.fasta:\n",
    "- N50: 111666\n",
    "- Общая длина сборки: 5258138\n",
    "- Количество контигов: 209"
   ]
  },
  {
   "cell_type": "code",
   "execution_count": null,
   "id": "77525123-d3ee-4964-b7e5-54eac00761d2",
   "metadata": {},
   "outputs": [],
   "source": []
  },
  {
   "cell_type": "code",
   "execution_count": null,
   "id": "92fd377a-8929-4b88-8071-c4611a4ef2e4",
   "metadata": {},
   "outputs": [],
   "source": []
  },
  {
   "cell_type": "code",
   "execution_count": null,
   "id": "b6287193-66b5-4a15-90ad-14b0498ec98c",
   "metadata": {},
   "outputs": [],
   "source": []
  },
  {
   "cell_type": "code",
   "execution_count": null,
   "id": "c074955d-db04-4b2f-92e0-c7053c9bd7af",
   "metadata": {},
   "outputs": [],
   "source": []
  },
  {
   "cell_type": "code",
   "execution_count": null,
   "id": "f0d7f949-61e5-4ee5-b24c-c972fe55ad29",
   "metadata": {},
   "outputs": [],
   "source": []
  },
  {
   "cell_type": "code",
   "execution_count": null,
   "id": "f5f87162-e10a-4a0c-b79f-551e5fc01a21",
   "metadata": {},
   "outputs": [],
   "source": []
  },
  {
   "cell_type": "code",
   "execution_count": null,
   "id": "d729fe60-6c8d-42b9-adbd-78dc7b1caca8",
   "metadata": {},
   "outputs": [],
   "source": []
  },
  {
   "cell_type": "code",
   "execution_count": null,
   "id": "93f509ee-20aa-4d27-8dbf-51ffa2b789f8",
   "metadata": {},
   "outputs": [],
   "source": []
  },
  {
   "cell_type": "code",
   "execution_count": null,
   "id": "ec498d7f-76a7-4011-8fce-aed903ee0265",
   "metadata": {},
   "outputs": [],
   "source": []
  },
  {
   "cell_type": "code",
   "execution_count": null,
   "id": "fc844bec-3a54-4072-939b-c5f0c976462b",
   "metadata": {},
   "outputs": [],
   "source": []
  }
 ],
 "metadata": {
  "kernelspec": {
   "display_name": "Python 3 (ipykernel)",
   "language": "python",
   "name": "python3"
  },
  "language_info": {
   "codemirror_mode": {
    "name": "ipython",
    "version": 3
   },
   "file_extension": ".py",
   "mimetype": "text/x-python",
   "name": "python",
   "nbconvert_exporter": "python",
   "pygments_lexer": "ipython3",
   "version": "3.12.7"
  }
 },
 "nbformat": 4,
 "nbformat_minor": 5
}
