{
 "cells": [
  {
   "cell_type": "markdown",
   "id": "c278aa8e-e941-49b7-9f11-9a4c8cc3d3f7",
   "metadata": {},
   "source": [
    "**Выполнение Шага 1**"
   ]
  },
  {
   "cell_type": "code",
   "execution_count": null,
   "id": "0b54bffe-ba53-4968-bc5c-2c2c497cfffb",
   "metadata": {},
   "outputs": [],
   "source": [
    "# Создание conda-окружения fastq и его запуск + просмотр версии\n",
    "conda create -n fastqc_env -c conda-forge -c bioconda fastqc\n",
    "conda activate fastqc_env\n",
    "fastqc --version"
   ]
  },
  {
   "cell_type": "markdown",
   "id": "2bf51f5c-9aa7-4aa1-bd1d-b6a8a6218ee9",
   "metadata": {},
   "source": [
    "FastQC v0.12.1 - установленная версия"
   ]
  },
  {
   "cell_type": "code",
   "execution_count": null,
   "id": "739885bd-93c7-40e9-afba-70cb8385b753",
   "metadata": {},
   "outputs": [],
   "source": [
    "# Запуск FastQC на всех 6 файлах данных\n",
    "fastqc -o hw2/fastqc hw2/fastqc/SRR292678_1.fastq\n",
    "fastqc -o hw2/fastqc hw2/fastqc/SRR292678_2.fastq\n",
    "fastqc -o hw2/fastqc hw2/fastqc/SRR292862_1.fastq\n",
    "fastqc -o hw2/fastqc hw2/fastqc/SRR292862_2.fastq\n",
    "fastqc -o hw2/fastqc hw2/fastqc/SRR292770_1.fastq\n",
    "fastqc -o hw2/fastqc hw2/fastqc/SRR292770_2.fastq"
   ]
  },
  {
   "cell_type": "markdown",
   "id": "672e80c9-ef35-43e8-9f0c-d9359bf4d8ae",
   "metadata": {},
   "source": [
    "Анализ файлов был выполнен 10.11.2024 и результат сохранен в папку fastqc"
   ]
  },
  {
   "cell_type": "code",
   "execution_count": null,
   "id": "f1e14cfd-8c3c-444a-8033-dc6ada778d40",
   "metadata": {},
   "outputs": [],
   "source": [
    "# По завершению анализа отключаем окружение\n",
    "conda deactivate"
   ]
  },
  {
   "cell_type": "code",
   "execution_count": null,
   "id": "192dddaa-4dd7-41c3-9f9b-414f76891794",
   "metadata": {},
   "outputs": [],
   "source": []
  },
  {
   "cell_type": "code",
   "execution_count": null,
   "id": "c385a9fa-dc4f-4af6-b565-4ace9f90da1c",
   "metadata": {},
   "outputs": [],
   "source": []
  }
 ],
 "metadata": {
  "kernelspec": {
   "display_name": "Python 3 (ipykernel)",
   "language": "python",
   "name": "python3"
  },
  "language_info": {
   "codemirror_mode": {
    "name": "ipython",
    "version": 3
   },
   "file_extension": ".py",
   "mimetype": "text/x-python",
   "name": "python",
   "nbconvert_exporter": "python",
   "pygments_lexer": "ipython3",
   "version": "3.12.7"
  }
 },
 "nbformat": 4,
 "nbformat_minor": 5
}
