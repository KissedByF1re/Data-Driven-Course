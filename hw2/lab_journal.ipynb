{
 "cells": [
  {
   "cell_type": "markdown",
   "id": "c278aa8e-e941-49b7-9f11-9a4c8cc3d3f7",
   "metadata": {},
   "source": [
    "**Выполнение Шага 1**"
   ]
  },
  {
   "cell_type": "code",
   "execution_count": null,
   "id": "0b54bffe-ba53-4968-bc5c-2c2c497cfffb",
   "metadata": {},
   "outputs": [],
   "source": [
    "# Создание conda-окружения fastqс и его запуск + просмотр версии\n",
    "mamba create -n fastqc_env -c conda-forge -c bioconda fastqc\n",
    "conda activate fastqc_env\n",
    "fastqc --version"
   ]
  },
  {
   "cell_type": "markdown",
   "id": "2bf51f5c-9aa7-4aa1-bd1d-b6a8a6218ee9",
   "metadata": {},
   "source": [
    "FastQC v0.12.1 - установленная версия"
   ]
  },
  {
   "cell_type": "code",
   "execution_count": null,
   "id": "739885bd-93c7-40e9-afba-70cb8385b753",
   "metadata": {},
   "outputs": [],
   "source": [
    "# Запуск FastQC на всех 6 файлах данных\n",
    "fastqc -o hw2/fastqc hw2/fastqc/SRR292678_1.fastq\n",
    "fastqc -o hw2/fastqc hw2/fastqc/SRR292678_2.fastq\n",
    "fastqc -o hw2/fastqc hw2/fastqc/SRR292862_1.fastq\n",
    "fastqc -o hw2/fastqc hw2/fastqc/SRR292862_2.fastq\n",
    "fastqc -o hw2/fastqc hw2/fastqc/SRR292770_1.fastq\n",
    "fastqc -o hw2/fastqc hw2/fastqc/SRR292770_2.fastq"
   ]
  },
  {
   "cell_type": "markdown",
   "id": "672e80c9-ef35-43e8-9f0c-d9359bf4d8ae",
   "metadata": {},
   "source": [
    "Анализ файлов был выполнен 10.11.2024 и результат сохранен в папку fastqc"
   ]
  },
  {
   "cell_type": "code",
   "execution_count": null,
   "id": "f1e14cfd-8c3c-444a-8033-dc6ada778d40",
   "metadata": {},
   "outputs": [],
   "source": [
    "# По завершению анализа отключаем окружение\n",
    "conda deactivate"
   ]
  },
  {
   "cell_type": "code",
   "execution_count": null,
   "id": "192dddaa-4dd7-41c3-9f9b-414f76891794",
   "metadata": {},
   "outputs": [],
   "source": [
    "# Пушим в GitHub\n",
    "git add hw2/lab_journal.ipynb hw2/fastqc\n",
    "git commit -m 'Step 1 in HW2'\n",
    "git push"
   ]
  },
  {
   "cell_type": "markdown",
   "id": "0df44c82-f4d9-4485-b049-7144faf417dd",
   "metadata": {},
   "source": [
    "**Выполнение Шага 2**"
   ]
  },
  {
   "cell_type": "code",
   "execution_count": null,
   "id": "2bfb0893-ca68-4aef-ad53-5e7c08cf20ff",
   "metadata": {},
   "outputs": [],
   "source": [
    "# Подготовка окружения\n",
    "mamba create -n spades_env -c conda-forge -c bioconda spades\n",
    "conda activate spades_env\n",
    "spades.py --version"
   ]
  },
  {
   "cell_type": "markdown",
   "id": "430a11a1-a863-47d8-9c2e-4e7ab2cb455a",
   "metadata": {},
   "source": [
    "SPAdes genome assembler v4.0.0 - установленная версия"
   ]
  },
  {
   "cell_type": "code",
   "execution_count": null,
   "id": "f9b039b4-950c-4099-90af-14158209abc4",
   "metadata": {},
   "outputs": [],
   "source": [
    "# Сборка генома (без стадии коррекции ошибок, так как иначе не хватало памяти и файлы contigs.fasta и scaffolds.fasta не создавались)\n",
    "cd DD_2024_private/\n",
    "cd hw2/\n",
    "spades.py -1 SRR292678_1.fastq -2 SRR292678_2.fastq -o spades/ --only-assembler"
   ]
  },
  {
   "cell_type": "markdown",
   "id": "a3c77226-28f0-4428-8ad4-bc3c5cfb1fc1",
   "metadata": {},
   "source": [
    "Файлы contigs.fasta и scaffolds.fasta были успешно созданы и сохранены в папке spades 10.11.2024"
   ]
  },
  {
   "cell_type": "code",
   "execution_count": null,
   "id": "db99efe4-41e3-4d4b-a356-16b48a24fc9f",
   "metadata": {},
   "outputs": [],
   "source": [
    "# По завершению отключаем окружение\n",
    "conda deactivate"
   ]
  },
  {
   "cell_type": "code",
   "execution_count": null,
   "id": "4c2ae551-b61b-4543-a941-3a6846b504d5",
   "metadata": {},
   "outputs": [],
   "source": [
    "# Пушим в GitHub\n",
    "git add hw2/spades/ hw2/lab_journal.ipynb\n",
    "git commit -m 'Step 2 in HW2, update lab_journal'\n",
    "git push"
   ]
  },
  {
   "cell_type": "markdown",
   "id": "afec27c9-6a7a-451f-8ba4-5c727241a0fb",
   "metadata": {},
   "source": [
    "**Выполнение Шага 3**"
   ]
  },
  {
   "cell_type": "code",
   "execution_count": null,
   "id": "551c3a1f-3bf5-45f6-b3bb-4de2a39b9302",
   "metadata": {},
   "outputs": [],
   "source": [
    "# Подготовка окружения\n",
    "mamba create -n quast_env -c conda-forge -c bioconda quast\n",
    "conda activate quast_env\n",
    "quast --version"
   ]
  },
  {
   "cell_type": "markdown",
   "id": "20cc3cce-99fb-47b2-be2c-d73eee252a21",
   "metadata": {},
   "source": [
    "QUAST v5.2.0 - установленная версия"
   ]
  },
  {
   "cell_type": "code",
   "execution_count": null,
   "id": "63f1f859-3e17-4dc6-a73d-52de26b0a1b6",
   "metadata": {},
   "outputs": [],
   "source": [
    "# Анализ файлов, созданных после сборки генома\n",
    "quast -o hw2/quast hw2/spades/contigs.fasta hw2/spades/scaffolds.fasta"
   ]
  },
  {
   "cell_type": "markdown",
   "id": "dd5653ed-8cd9-4891-a379-86e0505c9ac9",
   "metadata": {},
   "source": [
    "**Метрики качества сборки:**\n",
    "\n",
    "Для contigs.fasta:\n",
    "- N50: 111666\n",
    "- Общая длина сборки: 5246662\n",
    "- Количество контигов: 200\n",
    "\n",
    "\n",
    "Для scaffolds.fasta:\n",
    "- N50: 111666\n",
    "- Общая длина сборки: 5258138\n",
    "- Количество контигов: 209"
   ]
  },
  {
   "cell_type": "code",
   "execution_count": null,
   "id": "77525123-d3ee-4964-b7e5-54eac00761d2",
   "metadata": {},
   "outputs": [],
   "source": [
    "# По завершению отключаем окружение\n",
    "conda deactivate"
   ]
  },
  {
   "cell_type": "code",
   "execution_count": null,
   "id": "92fd377a-8929-4b88-8071-c4611a4ef2e4",
   "metadata": {},
   "outputs": [],
   "source": [
    "# Пушим в GitHub\n",
    "git add hw2/quast/ hw2/lab_journal.ipynb\n",
    "git commit -m 'Step 3 in HW2, update lab_journal'\n",
    "git push"
   ]
  },
  {
   "cell_type": "markdown",
   "id": "f19cb51f-5c3e-4403-aa69-a0756dbe6f70",
   "metadata": {},
   "source": [
    "**Выполнение Шага 4**"
   ]
  },
  {
   "cell_type": "code",
   "execution_count": null,
   "id": "c074955d-db04-4b2f-92e0-c7053c9bd7af",
   "metadata": {},
   "outputs": [],
   "source": [
    "# Подготовка окружения\n",
    "mamba create -n prokka_env -c conda-forge -c bioconda prokka\n",
    "conda activate prokka_env\n",
    "prokka --version"
   ]
  },
  {
   "cell_type": "markdown",
   "id": "1ca26782-59cf-479b-90c2-12100078a939",
   "metadata": {},
   "source": [
    "prokka 1.14.6 - установленная версия"
   ]
  },
  {
   "cell_type": "code",
   "execution_count": null,
   "id": "f5f87162-e10a-4a0c-b79f-551e5fc01a21",
   "metadata": {},
   "outputs": [],
   "source": [
    "# Аннотация генома\n",
    "prokka --outdir hw2/prokka --prefix scaffolds_annotation hw2/spades/scaffolds.fasta"
   ]
  },
  {
   "cell_type": "markdown",
   "id": "44c8ba23-1545-4be0-825c-337504f6d4a0",
   "metadata": {},
   "source": [
    "**Статистика аннотации**\n",
    "- Количество контигов: 489\n",
    "- Общая длина собранного генома: 5320536\n",
    "- Количество pРНК: 5\n",
    "- Количество тРНК: 69\n",
    "- Количество тмРНК: 1\n",
    "- Количество кодирующих последовательностей: 4977\n",
    "- Есть один повторяющийся регион"
   ]
  },
  {
   "cell_type": "code",
   "execution_count": null,
   "id": "93f509ee-20aa-4d27-8dbf-51ffa2b789f8",
   "metadata": {},
   "outputs": [],
   "source": [
    "# По завершению отключаем окружение\n",
    "conda deactivate"
   ]
  },
  {
   "cell_type": "code",
   "execution_count": null,
   "id": "ec498d7f-76a7-4011-8fce-aed903ee0265",
   "metadata": {},
   "outputs": [],
   "source": [
    "# Пушим в GitHub\n",
    "git add hw2/prokka/ hw2/lab_journal.ipynb\n",
    "git commit -m 'Step 4 in HW2, update lab_journal'\n",
    "git push"
   ]
  },
  {
   "cell_type": "markdown",
   "id": "2bbd9118-5b8a-49c8-bef1-23a5da7edf85",
   "metadata": {},
   "source": [
    "**Выполнение Шага 5**"
   ]
  },
  {
   "cell_type": "code",
   "execution_count": null,
   "id": "f258a3bc-5e55-4067-97aa-66d2397b8b24",
   "metadata": {},
   "outputs": [],
   "source": [
    "# Подготовка окружения\n",
    "mamba create -n abricate_env -c conda-forge -c bioconda abricate\n",
    "conda activate abricate_env\n",
    "abricate --version"
   ]
  },
  {
   "cell_type": "markdown",
   "id": "996e89ef-2094-4f9e-8c93-4e5d3cba20c8",
   "metadata": {},
   "source": [
    "abricate 1.0.1 - установленная версия"
   ]
  },
  {
   "cell_type": "code",
   "execution_count": null,
   "id": "2c6d180a-0110-4579-8e06-7e202ae9157c",
   "metadata": {},
   "outputs": [],
   "source": [
    "# Поиск генов устойчивости\n",
    "abricate --db ncbi hw2/spades/scaffolds.fasta > hw2/abricate/ncbi_results.txt\n",
    "abricate --db resfinder hw2/spades/scaffolds.fasta > hw2/abricate/resfinder_results.txt"
   ]
  },
  {
   "cell_type": "markdown",
   "id": "1049a5cb-4187-4c25-b6f3-96c867440cbf",
   "metadata": {},
   "source": [
    "**Результаты поиска генов устойчивости**\n",
    "\n",
    "NCBI и ResFinder в первую очередь предназначены для поиска генов устойчивости к антибиотикам, а не вирулентности.\n",
    "\n",
    "Найденные гены устойчивости в базе данных NCBI:\n",
    "- **blaTEM-1**: устойчивость к бета-лактамам\n",
    "- **blaEC-18**: устойчивость к амоксициллину, ампициллину, цефалотину, пиперациллину, тикарциллину\n",
    "- **blaCTX-M-15**: устойчивость к амоксициллину, ампициллину, азтреонаму, цефепиму, цефотаксиму, цефтазидиму, цефтриаксону, пиперациллину, тикарциллину\n",
    "- **dfrA7**: устойчивость к триметоприму\n",
    "- **sul1**: устойчивость к сульфаниламидам\n",
    "- **aph(6)-Id**: устойчивость к стрептомицину\n",
    "- **aph(3'')-Ib**: устойчивость к стрептомицину\n",
    "- **sul2**: устойчивость к сульфаметоксазолу\n",
    "- **tet(A)**: устойчивость к доксициклину и тетрациклину\n",
    "\n",
    "Найденные гены устойчивости в базе данных ResFinder:\n",
    "- **blaTEM-1B**: устойчивость к амоксициллину, ампициллину, цефалотину, пиперациллину, тикарциллину\n",
    "- **mdf(A)**: множественная устойчивость (специфические антибиотики не указаны)\n",
    "- **blaCTX-M-15**: устойчивость к амоксициллину, ампициллину, азтреонаму, цефепиму, цефотаксиму, цефтазидиму, цефтриаксону, пиперациллину, тикарциллину\n",
    "- **dfrA7**: устойчивость к триметоприму\n",
    "- **sul1**: устойчивость к сульфаниламидам\n",
    "- **aph(6)-Id**: устойчивость к стрептомицину\n",
    "- **aph(3'')-Ib**: устойчивость к стрептомицину\n",
    "- **sul2**: устойчивость к сульфаметоксазолу\n",
    "- **tet(A)**: устойчивость к доксициклину и тетрациклину"
   ]
  },
  {
   "cell_type": "code",
   "execution_count": null,
   "id": "fdede1e5-e915-4fcc-be6f-496618d4a5da",
   "metadata": {},
   "outputs": [],
   "source": [
    "# Для поиска генов вирулентности нужно использовать другую БД (ресерчил в помощью LLMок)\n",
    "abricate --db vfdb hw2/spades/scaffolds.fasta > hw2/abricate/virulence_results.txt"
   ]
  },
  {
   "cell_type": "markdown",
   "id": "ccff028b-abf1-4433-8ba2-05d12367c043",
   "metadata": {},
   "source": [
    "**Результаты поиска генов вирулентности**\n",
    "\n",
    "Найденные гены вирулентности в базе данных VFDB:\n",
    "- **stx2A, stx2B**: шига-подобный токсин II, вызывает гемолитико-уремический синдром\n",
    "- **espX4, espX5**: эффекторные белки системы секреции III типа, участвуют в заражении клеток хозяина\n",
    "- **entD, fepA, fes, entF и другие**: гены синтеза энтеробактина, необходимы для захвата железа\n",
    "- **ompA**: белок внешней мембраны, способствует адгезии и инвазии\n",
    "- **ybtT, ybtE, ybtU, irp1, irp2 и другие**: гены синтеза йерсиниабактина, способствуют захвату железа\n",
    "- **iutA, iucD, iucC**: гены синтеза аэробактина, связаны с захватом железа\n",
    "- **csgG, csgF, csgD, csgB**: гены, ответственные за образование курлиевых фибрилл, способствуют образованию биопленок\n",
    "- **pic, sigA**: сериновые протеазы, расщепляющие иммунные белки хозяина"
   ]
  },
  {
   "cell_type": "code",
   "execution_count": null,
   "id": "e1da44a9-5ce1-4d85-a878-771e2224283d",
   "metadata": {},
   "outputs": [],
   "source": [
    "# По завершению отключаем окружение\n",
    "conda deactivate"
   ]
  },
  {
   "cell_type": "code",
   "execution_count": null,
   "id": "ca772d5a-516c-422f-b6f8-2a81620bb597",
   "metadata": {},
   "outputs": [],
   "source": [
    "# Пушим в GitHub\n",
    "git add hw2/abricate/ hw2/lab_journal.ipynb\n",
    "git commit -m 'Step 5 in HW2, update lab_journal'\n",
    "git push"
   ]
  }
 ],
 "metadata": {
  "kernelspec": {
   "display_name": "Python 3 (ipykernel)",
   "language": "python",
   "name": "python3"
  },
  "language_info": {
   "codemirror_mode": {
    "name": "ipython",
    "version": 3
   },
   "file_extension": ".py",
   "mimetype": "text/x-python",
   "name": "python",
   "nbconvert_exporter": "python",
   "pygments_lexer": "ipython3",
   "version": "3.12.7"
  }
 },
 "nbformat": 4,
 "nbformat_minor": 5
}
